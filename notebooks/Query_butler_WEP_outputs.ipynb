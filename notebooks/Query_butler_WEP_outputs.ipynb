{
 "cells": [
  {
   "cell_type": "markdown",
   "metadata": {},
   "source": [
    "# Querying butler WEP outputs"
   ]
  },
  {
   "cell_type": "code",
   "execution_count": 3,
   "metadata": {
    "execution": {
     "iopub.execute_input": "2024-06-11T08:02:30.705967Z",
     "iopub.status.busy": "2024-06-11T08:02:30.705535Z",
     "iopub.status.idle": "2024-06-11T08:02:34.300379Z",
     "shell.execute_reply": "2024-06-11T08:02:34.299858Z",
     "shell.execute_reply.started": "2024-06-11T08:02:30.705930Z"
    },
    "tags": []
   },
   "outputs": [],
   "source": [
    "import numpy as np\n",
    "import matplotlib.pyplot as plt\n",
    "import astropy.io.fits as pf\n",
    "from lsst.daf.butler import Butler\n",
    "from lsst.ip.isr import IsrTask, IsrTaskConfig\n",
    "from matplotlib.colors import LogNorm\n",
    "import matplotlib.pyplot as plt\n",
    "from lsst.summit.utils.plotting import plot\n",
    "%matplotlib inline"
   ]
  },
  {
   "cell_type": "markdown",
   "metadata": {},
   "source": [
    "## Setting up the butler and collections from mtaos runs"
   ]
  },
  {
   "cell_type": "code",
   "execution_count": 4,
   "metadata": {
    "execution": {
     "iopub.execute_input": "2024-06-11T08:02:34.311352Z",
     "iopub.status.busy": "2024-06-11T08:02:34.311209Z",
     "iopub.status.idle": "2024-06-11T08:02:34.640413Z",
     "shell.execute_reply": "2024-06-11T08:02:34.639574Z",
     "shell.execute_reply.started": "2024-06-11T08:02:34.311338Z"
    },
    "scrolled": true,
    "tags": []
   },
   "outputs": [],
   "source": [
    "collections = ['mtaos_wep_Script:102889_20240502T042949505']\n",
    "\n",
    "butler = Butler('/repo/LSSTComCam', collections=collections)\n",
    "registry = butler.registry"
   ]
  },
  {
   "cell_type": "markdown",
   "metadata": {},
   "source": [
    "## Get PostISR and plot exposure"
   ]
  },
  {
   "cell_type": "code",
   "execution_count": 15,
   "metadata": {
    "execution": {
     "iopub.execute_input": "2024-06-11T08:07:59.598922Z",
     "iopub.status.busy": "2024-06-11T08:07:59.598512Z",
     "iopub.status.idle": "2024-06-11T08:08:00.208152Z",
     "shell.execute_reply": "2024-06-11T08:08:00.207569Z",
     "shell.execute_reply.started": "2024-06-11T08:07:59.598864Z"
    }
   },
   "outputs": [],
   "source": [
    "postisr = list(registry.queryDatasets('postISRCCD', collections=collections, detector = 0))\n",
    "exposure_ids = np.array([data.dataId['exposure'] for data in postisr])\n",
    "exposure = butler.get(postisr[0])"
   ]
  },
  {
   "cell_type": "code",
   "execution_count": null,
   "metadata": {
    "execution": {
     "iopub.execute_input": "2024-06-11T08:03:52.619354Z",
     "iopub.status.busy": "2024-06-11T08:03:52.618829Z",
     "iopub.status.idle": "2024-06-11T08:03:54.629170Z",
     "shell.execute_reply": "2024-06-11T08:03:54.628427Z",
     "shell.execute_reply.started": "2024-06-11T08:03:52.619325Z"
    }
   },
   "outputs": [],
   "source": [
    "fig = plt.figure(figsize=(10, 10))\n",
    "_ = plot(exposure, figure=fig, stretch='ccs')"
   ]
  },
  {
   "cell_type": "markdown",
   "metadata": {},
   "source": [
    "### Plot intra focal postISRCCDs for each detector"
   ]
  },
  {
   "cell_type": "code",
   "execution_count": null,
   "metadata": {
    "execution": {
     "iopub.execute_input": "2024-06-11T08:09:55.438657Z",
     "iopub.status.busy": "2024-06-11T08:09:55.438258Z",
     "iopub.status.idle": "2024-06-11T08:10:17.428464Z",
     "shell.execute_reply": "2024-06-11T08:10:17.427701Z",
     "shell.execute_reply.started": "2024-06-11T08:09:55.438628Z"
    }
   },
   "outputs": [],
   "source": [
    "plt.figure(figsize = (10, 10))\n",
    "for selected_detector in range(9):\n",
    "    plt.subplot(3,3, selected_detector + 1)\n",
    "    list_of_postisrs = list(registry.queryDatasets('postISRCCD', collections=collections, detector = selected_detector, exposure = np.min(exposure_ids)))\n",
    "    plt.imshow(butler.get(list_of_postisrs[0]).image.array, norm=LogNorm(vmax = 3e3), cmap = 'gray')\n",
    "    plt.title(f'Detector {selected_detector + 1} - Intra focal')\n",
    "\n",
    "plt.tight_layout()\n"
   ]
  },
  {
   "cell_type": "markdown",
   "metadata": {},
   "source": [
    "### Plot extra focal postISRCCDs for each detector"
   ]
  },
  {
   "cell_type": "code",
   "execution_count": null,
   "metadata": {
    "execution": {
     "iopub.execute_input": "2024-06-11T08:09:14.468425Z",
     "iopub.status.busy": "2024-06-11T08:09:14.468039Z",
     "iopub.status.idle": "2024-06-11T08:09:36.815550Z",
     "shell.execute_reply": "2024-06-11T08:09:36.814824Z",
     "shell.execute_reply.started": "2024-06-11T08:09:14.468395Z"
    }
   },
   "outputs": [],
   "source": [
    "plt.figure(figsize = (10, 10))\n",
    "for selected_detector in range(9):\n",
    "    plt.subplot(3,3, selected_detector + 1)\n",
    "    list_of_postisrs = list(registry.queryDatasets('postISRCCD', collections=collections, detector = selected_detector, exposure = np.max(exposure_ids)))\n",
    "    plt.imshow(butler.get(list_of_postisrs[0]).image.array, norm=LogNorm(vmax = 3e3), cmap = 'gray')\n",
    "    plt.title(f'Detector {selected_detector + 1} - Extra focal')\n",
    "\n",
    "plt.tight_layout()"
   ]
  },
  {
   "cell_type": "markdown",
   "metadata": {
    "execution": {
     "iopub.execute_input": "2024-05-06T15:30:01.981468Z",
     "iopub.status.busy": "2024-05-06T15:30:01.980928Z",
     "iopub.status.idle": "2024-05-06T15:30:02.651335Z",
     "shell.execute_reply": "2024-05-06T15:30:02.650758Z",
     "shell.execute_reply.started": "2024-05-06T15:30:01.981437Z"
    }
   },
   "source": [
    "## Donut Stamps\n",
    "\n",
    "### Intra focal stamps"
   ]
  },
  {
   "cell_type": "code",
   "execution_count": null,
   "metadata": {
    "execution": {
     "iopub.execute_input": "2024-06-11T08:11:01.710779Z",
     "iopub.status.busy": "2024-06-11T08:11:01.710436Z",
     "iopub.status.idle": "2024-06-11T08:11:25.226330Z",
     "shell.execute_reply": "2024-06-11T08:11:25.225908Z",
     "shell.execute_reply.started": "2024-06-11T08:11:01.710753Z"
    }
   },
   "outputs": [],
   "source": [
    "for selected_detector in range(9):\n",
    "    list_stamps_cutout = list(registry.queryDatasets(\"donutStampsIntra\", collections=collections, detector = selected_detector))\n",
    "    list_of_stamps = butler.get(list_stamps_cutout[0])\n",
    "    total_stamps = len(list_of_stamps)\n",
    "    \n",
    "    plt.figure(figsize = (17,4))\n",
    "    for idx in range(total_stamps):\n",
    "        plt.subplot((total_stamps // 25) + 1, 25, idx + 1)\n",
    "        plt.imshow(list_of_stamps[idx].stamp_im.image.array)\n",
    "        plt.axis('off') \n",
    "    \n",
    "    plt.suptitle(f\"Intra stamps - Detector {selected_detector + 1}\")\n",
    "    plt.tight_layout()"
   ]
  },
  {
   "cell_type": "markdown",
   "metadata": {},
   "source": [
    "### Extra focal stamps"
   ]
  },
  {
   "cell_type": "code",
   "execution_count": null,
   "metadata": {
    "execution": {
     "iopub.execute_input": "2024-06-11T08:12:10.482244Z",
     "iopub.status.busy": "2024-06-11T08:12:10.481826Z",
     "iopub.status.idle": "2024-06-11T08:12:30.056995Z",
     "shell.execute_reply": "2024-06-11T08:12:30.056548Z",
     "shell.execute_reply.started": "2024-06-11T08:12:10.482214Z"
    }
   },
   "outputs": [],
   "source": [
    "for selected_detector in range(9):\n",
    "    list_stamps_cutout = list(registry.queryDatasets(\"donutStampsExtra\", collections=collections, detector = selected_detector))\n",
    "    list_of_stamps = butler.get(list_stamps_cutout[0])\n",
    "    total_stamps = len(list_of_stamps)\n",
    "    \n",
    "    plt.figure(figsize = (17,4))\n",
    "    for idx in range(total_stamps):\n",
    "        plt.subplot((total_stamps // 25) + 1, 25, idx + 1)\n",
    "        plt.imshow(list_of_stamps[idx].stamp_im.image.array)\n",
    "        plt.axis('off') \n",
    "    \n",
    "    plt.suptitle(f\"Extra stamps - Detector {selected_detector + 1}\")\n",
    "    plt.tight_layout()"
   ]
  },
  {
   "cell_type": "markdown",
   "metadata": {},
   "source": [
    "## Zernike estimates from WEP\n"
   ]
  },
  {
   "cell_type": "code",
   "execution_count": null,
   "metadata": {
    "execution": {
     "iopub.execute_input": "2024-06-11T08:14:02.373218Z",
     "iopub.status.busy": "2024-06-11T08:14:02.372818Z",
     "iopub.status.idle": "2024-06-11T08:14:03.616706Z",
     "shell.execute_reply": "2024-06-11T08:14:03.616190Z",
     "shell.execute_reply.started": "2024-06-11T08:14:02.373189Z"
    }
   },
   "outputs": [],
   "source": [
    "detectors_label = ['R22_S00', 'R22_S01', 'R22_S02', 'R22_S10', 'R22_S11', 'R22_S12', 'R22_S20', 'R22_S21', 'R22_S22']     \n",
    "\n",
    "# Create a figure and subplots with shared x and y axes\n",
    "fig, axs = plt.subplots(3, 3, figsize=(15, 10), sharex=True, sharey=True)\n",
    "zk_avg = np.zeros((6,9,19))\n",
    "for detector, ax in enumerate(axs.flatten()):\n",
    "    list_of_collection_estimates = list(registry.queryDatasets('zernikeEstimateAvg', detector = detector))\n",
    "    for idx, element in enumerate(list_of_collection_estimates):\n",
    "        data = butler.get(element)  # Assuming this returns the data to be plotted\n",
    "        zk_avg[idx, detector, :] = data\n",
    "        ax.plot(data, '.', label=element.run)\n",
    "        \n",
    "    ax.set_title(f'Detector {detector + 1} - {detectors_label[detector]} ')\n",
    "\n",
    "    # Label only the bottom row and the leftmost column\n",
    "    if detector % 3 == 0:  # First column\n",
    "        ax.set_ylabel('um')\n",
    "    if detector >= 6:  # Bottom row\n",
    "        ax.set_xlabel('Zernike Noll Index')\n",
    "        \n",
    "\n",
    "plt.tight_layout()\n",
    "plt.show()"
   ]
  }
 ],
 "metadata": {
  "kernelspec": {
   "display_name": "LSST",
   "language": "python",
   "name": "lsst"
  },
  "language_info": {
   "codemirror_mode": {
    "name": "ipython",
    "version": 3
   },
   "file_extension": ".py",
   "mimetype": "text/x-python",
   "name": "python",
   "nbconvert_exporter": "python",
   "pygments_lexer": "ipython3",
   "version": "3.11.7"
  }
 },
 "nbformat": 4,
 "nbformat_minor": 4
}
